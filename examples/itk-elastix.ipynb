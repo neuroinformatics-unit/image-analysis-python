{
 "cells": [
  {
   "cell_type": "markdown",
   "id": "6bd08872-c4f2-49f5-bc5a-84da9295800c",
   "metadata": {},
   "source": [
    "## Using itk-elastix to register a single section to a BrainGlobe Atlas\n",
    "\n",
    "BrainGlobe 2D image registration has not yet been released, so we're going to use the [`itk-elastix`](https://github.com/InsightSoftwareConsortium/ITKElastix) library directly."
   ]
  },
  {
   "cell_type": "code",
   "execution_count": 1,
   "id": "c0ed7368-7a90-4baa-8e20-7c467ed79151",
   "metadata": {},
   "outputs": [],
   "source": [
    "# Download and load a 2D coronal image\n",
    "import pooch\n",
    "import tifffile\n",
    "from pathlib import Path\n",
    "\n",
    "# Use pooch to fetch data if it hasn't already been downloaded\n",
    "image_url = \"https://gin.g-node.org/neuroinformatics/image-analysis-courses/raw/master/misc/coronal_section.tif\"\n",
    "image_path = pooch.retrieve(image_url, path=Path.cwd().parent, fname=\"coronal_section.tif\", known_hash=None, progressbar=True)\n",
    "fixed_image = tifffile.imread(image_path)"
   ]
  },
  {
   "cell_type": "code",
   "execution_count": 2,
   "id": "eabd9a0d-dbda-41e9-a1cc-c57d0ffb1d74",
   "metadata": {},
   "outputs": [
    {
     "data": {
      "text/plain": [
       "<Image layer 'fixed_image' at 0x7fce6ca726b0>"
      ]
     },
     "execution_count": 2,
     "metadata": {},
     "output_type": "execute_result"
    }
   ],
   "source": [
    "# Load image into napari\n",
    "import napari\n",
    "viewer = napari.Viewer()\n",
    "viewer.add_image(fixed_image)"
   ]
  },
  {
   "cell_type": "code",
   "execution_count": 3,
   "id": "5c80f539-c035-4258-a4d2-72bcd2eea441",
   "metadata": {},
   "outputs": [
    {
     "data": {
      "text/plain": [
       "<Image layer 'moving_image' at 0x7fce48a292a0>"
      ]
     },
     "execution_count": 3,
     "metadata": {},
     "output_type": "execute_result"
    }
   ],
   "source": [
    "# Instantiate a BrainGlobe Atlas API atlas class and choose an appropriate plane\n",
    "from bg_atlasapi import BrainGlobeAtlas\n",
    "atlas_plane = 230 \n",
    "atlas = BrainGlobeAtlas(\"allen_mouse_25um\")\n",
    "moving_image = atlas.reference[atlas_plane]\n",
    "viewer.add_image(moving_image)"
   ]
  },
  {
   "cell_type": "code",
   "execution_count": 4,
   "id": "0fa9590a-fd65-4e12-a427-a2e2c11af3d4",
   "metadata": {},
   "outputs": [
    {
     "data": {
      "text/plain": [
       "<Image layer 'downsampled_fixed_image' at 0x7fce02b13a60>"
      ]
     },
     "execution_count": 4,
     "metadata": {},
     "output_type": "execute_result"
    }
   ],
   "source": [
    "# Resample so the images are the same scale\n",
    "from scipy.ndimage import zoom\n",
    "image_pixel_size = 5 # um\n",
    "atlas_pixel_size = atlas.resolution[0]\n",
    "downsampled_fixed_image = zoom(fixed_image, image_pixel_size / atlas_pixel_size)\n",
    "viewer.add_image(downsampled_fixed_image)"
   ]
  },
  {
   "cell_type": "code",
   "execution_count": 5,
   "id": "2e4f7c18-5b63-401b-b252-67c4c6265f9d",
   "metadata": {},
   "outputs": [],
   "source": [
    "# Define a registration function (see `itk-elastix` examples for more)\n",
    "import itk\n",
    "import numpy as np\n",
    "\n",
    "def run_registration(\n",
    "    fixed_image,\n",
    "    moving_image,\n",
    "    rigid=True,\n",
    "    affine=True,\n",
    "    bspline=True,\n",
    "    affine_iterations=\"2048\",\n",
    "    log=False,\n",
    "):\n",
    "    # convert to ITK, view only\n",
    "    fixed_image = itk.GetImageViewFromArray(fixed_image).astype(itk.F)\n",
    "    moving_image = itk.GetImageViewFromArray(moving_image).astype(itk.F)\n",
    "\n",
    "    # This syntax needed for 3D images. Leaving here for compatibility.\n",
    "    elastix_object = itk.ElastixRegistrationMethod.New(\n",
    "        fixed_image, moving_image\n",
    "    )\n",
    "\n",
    "    parameter_object = setup_parameter_object(\n",
    "        rigid=rigid,\n",
    "        affine=affine,\n",
    "        bspline=bspline,\n",
    "        affine_iterations=affine_iterations,\n",
    "    )\n",
    "    elastix_object.SetParameterObject(parameter_object)\n",
    "    elastix_object.SetLogToConsole(log)\n",
    "\n",
    "    # update filter object\n",
    "    elastix_object.UpdateLargestPossibleRegion()\n",
    "\n",
    "    # get results\n",
    "    result_image = elastix_object.GetOutput()\n",
    "    result_transform_parameters = elastix_object.GetTransformParameterObject()\n",
    "    return np.asarray(result_image), result_transform_parameters\n",
    "\n",
    "\n",
    "def setup_parameter_object(\n",
    "    rigid=True,\n",
    "    affine=True,\n",
    "    bspline=True,\n",
    "    affine_iterations=\"2048\",\n",
    "):\n",
    "    parameter_object = itk.ParameterObject.New()\n",
    "\n",
    "    if rigid:\n",
    "        parameter_map_rigid = parameter_object.GetDefaultParameterMap(\"rigid\")\n",
    "        parameter_object.AddParameterMap(parameter_map_rigid)\n",
    "\n",
    "    if affine:\n",
    "        parameter_map_affine = parameter_object.GetDefaultParameterMap(\n",
    "            \"affine\"\n",
    "        )\n",
    "        parameter_map_affine[\"MaximumNumberOfIterations\"] = [affine_iterations]\n",
    "        parameter_object.AddParameterMap(parameter_map_affine)\n",
    "\n",
    "    if bspline:\n",
    "        parameter_map_bspline = parameter_object.GetDefaultParameterMap(\n",
    "            \"bspline\"\n",
    "        )\n",
    "        parameter_object.AddParameterMap(parameter_map_bspline)\n",
    "\n",
    "    return parameter_object"
   ]
  },
  {
   "cell_type": "code",
   "execution_count": 6,
   "id": "4485eddf-ea28-4d88-b48b-98c791665d92",
   "metadata": {},
   "outputs": [],
   "source": [
    "# Register the atlas image to the sample\n",
    "registered_image, result_transform_parameters = run_registration(downsampled_fixed_image, moving_image)"
   ]
  },
  {
   "cell_type": "code",
   "execution_count": 7,
   "id": "3e35422d-9592-45b7-b7cc-2cd987453831",
   "metadata": {},
   "outputs": [
    {
     "data": {
      "text/plain": [
       "<Image layer 'registered_image' at 0x7fcd036661d0>"
      ]
     },
     "execution_count": 7,
     "metadata": {},
     "output_type": "execute_result"
    }
   ],
   "source": [
    "# Visualise the result\n",
    "viewer.add_image(registered_image)"
   ]
  },
  {
   "cell_type": "code",
   "execution_count": 8,
   "id": "90a58717-2138-464d-ae59-5a03ac8322bf",
   "metadata": {},
   "outputs": [],
   "source": [
    "# Define a function to transform any other images from atlas to sample space\n",
    "def transform_additional_image(moving_image, result_transform_parameters, mask=False):\n",
    "    result_transform_parameters.SetParameter('FinalBSplineInterpolationOrder','0')\n",
    "    \n",
    "    # convert to ITK, view only\n",
    "    moving_image = itk.GetImageViewFromArray(moving_image).astype(itk.F)\n",
    "    \n",
    "    # Load Transformix Object\n",
    "    transformix_object = itk.TransformixFilter.New(moving_image)\n",
    "    transformix_object.SetTransformParameterObject(result_transform_parameters)\n",
    "\n",
    "    \n",
    "    # Update object (required)\n",
    "    transformix_object.UpdateLargestPossibleRegion()\n",
    "    \n",
    "    # Results of Transformation\n",
    "    result_image = transformix_object.GetOutput()\n",
    "\n",
    "    if mask:\n",
    "        return np.asarray(result_image, dtype=int)\n",
    "    else:\n",
    "        return np.asarray(result_image)"
   ]
  },
  {
   "cell_type": "code",
   "execution_count": 9,
   "id": "62055f12-bd92-4ab2-9466-da9e5d533b90",
   "metadata": {},
   "outputs": [
    {
     "data": {
      "text/plain": [
       "<Labels layer 'warped_annotations' at 0x7fce025e67d0>"
      ]
     },
     "execution_count": 9,
     "metadata": {},
     "output_type": "execute_result"
    }
   ],
   "source": [
    "# Apply transformation to the annotations image\n",
    "warped_annotations = transform_additional_image(atlas.annotation[atlas_plane], result_transform_parameters, mask=True)\n",
    "viewer.add_labels(warped_annotations)"
   ]
  },
  {
   "cell_type": "code",
   "execution_count": 10,
   "id": "343c7871-5663-4d3c-927c-a41aceb9d7e5",
   "metadata": {},
   "outputs": [
    {
     "name": "stdout",
     "output_type": "stream",
     "text": [
      "{'acronym': 'CP',\n",
      " 'id': 672,\n",
      " 'mesh': None,\n",
      " 'mesh_filename': PosixPath('/home/adam/.brainglobe/allen_mouse_25um_v1.2/meshes/672.obj'),\n",
      " 'name': 'Caudoputamen',\n",
      " 'rgb_triplet': [152, 214, 249],\n",
      " 'structure_id_path': [997, 8, 567, 623, 477, 485, 672]}\n"
     ]
    }
   ],
   "source": [
    "# Pick a value from atlas to inspect\n",
    "from pprint import pprint\n",
    "pprint(atlas.structures[672])"
   ]
  }
 ],
 "metadata": {
  "kernelspec": {
   "display_name": "Python [conda env:image-analysis3] *",
   "language": "python",
   "name": "conda-env-image-analysis3-py"
  },
  "language_info": {
   "codemirror_mode": {
    "name": "ipython",
    "version": 3
   },
   "file_extension": ".py",
   "mimetype": "text/x-python",
   "name": "python",
   "nbconvert_exporter": "python",
   "pygments_lexer": "ipython3",
   "version": "3.10.11"
  }
 },
 "nbformat": 4,
 "nbformat_minor": 5
}
