{
 "cells": [
  {
   "cell_type": "code",
   "execution_count": 1,
   "id": "75da279f-89af-467d-99d8-47e50191b9eb",
   "metadata": {},
   "outputs": [],
   "source": [
    "import imio\n",
    "from scipy.ndimage import zoom\n",
    "\n",
    "\n",
    "atlas_pixel_size = 10 #um\n",
    "image_pixel_size = 2 #um\n",
    "moving_image = imio.load_any(\"../serial2p.tif\")\n",
    "fixed_image = imio.load_any(\"../atlas.tif\")\n",
    "\n",
    "moving_image = zoom(moving_image, image_pixel_size/atlas_pixel_size)"
   ]
  },
  {
   "cell_type": "code",
   "execution_count": 2,
   "id": "eabd9a0d-dbda-41e9-a1cc-c57d0ffb1d74",
   "metadata": {},
   "outputs": [
    {
     "data": {
      "text/plain": [
       "<Image layer 'fixed_image' at 0x7f9125faafb0>"
      ]
     },
     "execution_count": 2,
     "metadata": {},
     "output_type": "execute_result"
    }
   ],
   "source": [
    "import napari\n",
    "viewer = napari.Viewer()\n",
    "viewer.add_image(moving_image)\n",
    "viewer.add_image(fixed_image)"
   ]
  },
  {
   "cell_type": "code",
   "execution_count": 3,
   "id": "2e4f7c18-5b63-401b-b252-67c4c6265f9d",
   "metadata": {},
   "outputs": [],
   "source": [
    "import itk\n",
    "import numpy as np\n",
    "\n",
    "def run_registration(\n",
    "    fixed_image,\n",
    "    moving_image,\n",
    "    rigid=True,\n",
    "    affine=True,\n",
    "    bspline=True,\n",
    "    affine_iterations=\"2048\",\n",
    "    log=False,\n",
    "):\n",
    "    # convert to ITK, view only\n",
    "    fixed_image = itk.GetImageViewFromArray(fixed_image).astype(itk.F)\n",
    "    moving_image = itk.GetImageViewFromArray(moving_image).astype(itk.F)\n",
    "\n",
    "    # This syntax needed for 3D images\n",
    "    elastix_object = itk.ElastixRegistrationMethod.New(\n",
    "        fixed_image, moving_image\n",
    "    )\n",
    "\n",
    "    parameter_object = setup_parameter_object(\n",
    "        rigid=rigid,\n",
    "        affine=affine,\n",
    "        bspline=bspline,\n",
    "        affine_iterations=affine_iterations,\n",
    "    )\n",
    "    elastix_object.SetParameterObject(parameter_object)\n",
    "    elastix_object.SetLogToConsole(log)\n",
    "\n",
    "    # update filter object\n",
    "    elastix_object.UpdateLargestPossibleRegion()\n",
    "\n",
    "    # get results\n",
    "    result_image = elastix_object.GetOutput()\n",
    "    result_transform_parameters = elastix_object.GetTransformParameterObject()\n",
    "    return np.asarray(result_image), result_transform_parameters\n",
    "\n",
    "\n",
    "def setup_parameter_object(\n",
    "    rigid=True,\n",
    "    affine=True,\n",
    "    bspline=True,\n",
    "    affine_iterations=\"2048\",\n",
    "):\n",
    "    parameter_object = itk.ParameterObject.New()\n",
    "\n",
    "    if rigid:\n",
    "        parameter_map_rigid = parameter_object.GetDefaultParameterMap(\"rigid\")\n",
    "        parameter_object.AddParameterMap(parameter_map_rigid)\n",
    "\n",
    "    if affine:\n",
    "        parameter_map_affine = parameter_object.GetDefaultParameterMap(\n",
    "            \"affine\"\n",
    "        )\n",
    "        parameter_map_affine[\"MaximumNumberOfIterations\"] = [affine_iterations]\n",
    "        parameter_object.AddParameterMap(parameter_map_affine)\n",
    "\n",
    "    if bspline:\n",
    "        parameter_map_bspline = parameter_object.GetDefaultParameterMap(\n",
    "            \"bspline\"\n",
    "        )\n",
    "        parameter_object.AddParameterMap(parameter_map_bspline)\n",
    "\n",
    "    return parameter_object"
   ]
  },
  {
   "cell_type": "code",
   "execution_count": 4,
   "id": "4485eddf-ea28-4d88-b48b-98c791665d92",
   "metadata": {},
   "outputs": [],
   "source": [
    "registered_image, params = run_registration(fixed_image, moving_image)"
   ]
  },
  {
   "cell_type": "code",
   "execution_count": 6,
   "id": "3e35422d-9592-45b7-b7cc-2cd987453831",
   "metadata": {},
   "outputs": [
    {
     "data": {
      "text/plain": [
       "<Image layer 'registered_image [1]' at 0x7f90a67578e0>"
      ]
     },
     "execution_count": 6,
     "metadata": {},
     "output_type": "execute_result"
    }
   ],
   "source": [
    "viewer.add_image(registered_image)"
   ]
  }
 ],
 "metadata": {
  "kernelspec": {
   "display_name": "Python [conda env:image-analysis3] *",
   "language": "python",
   "name": "conda-env-image-analysis3-py"
  },
  "language_info": {
   "codemirror_mode": {
    "name": "ipython",
    "version": 3
   },
   "file_extension": ".py",
   "mimetype": "text/x-python",
   "name": "python",
   "nbconvert_exporter": "python",
   "pygments_lexer": "ipython3",
   "version": "3.10.11"
  }
 },
 "nbformat": 4,
 "nbformat_minor": 5
}
