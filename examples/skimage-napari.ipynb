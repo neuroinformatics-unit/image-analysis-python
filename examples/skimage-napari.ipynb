{
 "cells": [
  {
   "cell_type": "markdown",
   "id": "cfb84d9a-e728-4f28-8663-1b1735238e98",
   "metadata": {},
   "source": [
    "# Image analysis using scikit-image & napari\n",
    "\n",
    "While tools such as FIJI, Imaris etc. can be very easy to use, using Python for image analysis can be very useful:\n",
    "- Custom scripts allow you to analyse data in exactly the right way (not just what is implemented in a GUI)\n",
    "- Python allows you to combine image analysis, machine learning and data science (e.g. one script for everything, from raw data to plots).\n",
    "- Other neuroscience tools are written in Python, and so you can use functionality from these libraries (DeepLabCut, suite2p, BrainGlobe etc.)\n",
    "\n",
    "## scikit image\n",
    "[scikit](https://scikit-image.org) is an easy to use Python image processing library. It works well with numpy, it's well documented and easy to install across operating systems.\n",
    "\n",
    "## napari\n",
    "[napari](https://napari.org) is a multidimensional image viewer for Python. It allows for high-performance visualisation of data alongside analysis scripts. It's also easy to develop plugins for, so you can share your workflows with colleagues who may not know much Python."
   ]
  },
  {
   "cell_type": "markdown",
   "id": "c0585750-4ba2-42f5-a42e-526318b78977",
   "metadata": {},
   "source": [
    "## Load image as numpy array and inspect"
   ]
  },
  {
   "cell_type": "markdown",
   "id": "0006c9e4-07ab-4aea-be03-c2d5e456c1ea",
   "metadata": {},
   "source": [
    "## Load the data\n",
    "We're using [pooch](https://www.fatiando.org/pooch/) to automate downloading the data, and check the hash."
   ]
  },
  {
   "cell_type": "code",
   "execution_count": null,
   "id": "507c6e8e-d06b-497e-9f4e-cb3d3d68c485",
   "metadata": {
    "tags": []
   },
   "outputs": [],
   "source": [
    "import tifffile\n",
    "import pooch\n",
    "from pathlib import Path"
   ]
  },
  {
   "cell_type": "code",
   "execution_count": null,
   "id": "0161676a-c00e-44f8-9b6e-df97a5cdfa2a",
   "metadata": {},
   "outputs": [],
   "source": [
    "# Use pooch to fetch data if it hasn't already been downloaded\n",
    "image_url = \"https://gin.g-node.org/neuroinformatics/image-analysis-courses/raw/master/misc/DAPI.tif\"\n",
    "image_path = pooch.retrieve(image_url, path=Path.cwd().parent, fname=\"DAPI.tif\", known_hash=\"6c4a065ef15f84adc5628b26f2b01e3694cea121425b8e349aab0c5b07582468\", progressbar=True)"
   ]
  },
  {
   "cell_type": "code",
   "execution_count": null,
   "id": "a4042616-d91f-4dbb-9d57-f19492307564",
   "metadata": {
    "tags": []
   },
   "outputs": [],
   "source": [
    "image = tifffile.imread(image_path)\n",
    "print(image.dtype)\n",
    "print(image.shape)"
   ]
  },
  {
   "cell_type": "markdown",
   "id": "3a6e82df-af27-422b-92af-bff402a3890e",
   "metadata": {},
   "source": [
    "## View image in napari"
   ]
  },
  {
   "cell_type": "code",
   "execution_count": null,
   "id": "cc86006c-0016-4387-9163-a6506a6c1b8c",
   "metadata": {
    "tags": []
   },
   "outputs": [],
   "source": [
    "import napari\n",
    "\n",
    "# create the viewer and display the image\n",
    "viewer = napari.view_image(image)"
   ]
  },
  {
   "cell_type": "markdown",
   "id": "9756f43b-fd0d-48dc-9cfc-66f652e6abeb",
   "metadata": {},
   "source": [
    "## Use scikit-image to threshold"
   ]
  },
  {
   "cell_type": "code",
   "execution_count": null,
   "id": "de39f6a5-f12b-42b5-b9ae-b434b28d555e",
   "metadata": {
    "tags": []
   },
   "outputs": [],
   "source": [
    "# Threshold using otsu's method and view\n",
    "# Otsu (1979) IEEE Transactions on Systems, Man and Cybernetics. Vol SMC-9, No 1, p62\n",
    "import skimage\n",
    "\n",
    "thresholded = skimage.filters.threshold_otsu(image)\n",
    "binary = image > thresholded\n",
    "viewer.add_image(binary)"
   ]
  },
  {
   "cell_type": "markdown",
   "id": "a4fd01f2-f96c-41ad-8d62-1b88ee776cc4",
   "metadata": {
    "tags": []
   },
   "source": [
    "## Try preprocessing and other thresholding algorithms"
   ]
  },
  {
   "cell_type": "code",
   "execution_count": null,
   "id": "d796749c-0a57-4aff-b89c-17f8f6326d0e",
   "metadata": {
    "tags": []
   },
   "outputs": [],
   "source": [
    "# Smooth the image with a gaussian filter and try again\n",
    "image_smoothed = skimage.filters.gaussian(image, sigma=5)\n",
    "viewer.add_image(image_smoothed)\n",
    "\n",
    "thresholded = skimage.filters.threshold_otsu(image_smoothed)\n",
    "binary_smoothed = image_smoothed > thresholded\n",
    "viewer.add_image(binary_smoothed)"
   ]
  },
  {
   "cell_type": "code",
   "execution_count": null,
   "id": "4fdb0d40-53d5-410f-b238-6e68ef34cad9",
   "metadata": {
    "tags": []
   },
   "outputs": [],
   "source": [
    "thresholded = skimage.filters.threshold_triangle(image_smoothed)\n",
    "triangle_thresholded = image_smoothed > thresholded\n",
    "viewer.add_image(triangle_thresholded)"
   ]
  },
  {
   "cell_type": "markdown",
   "id": "6531c119-22be-429e-941b-98bbd3f2eea2",
   "metadata": {
    "tags": []
   },
   "source": [
    "## Clean up the image to improve segmentation"
   ]
  },
  {
   "cell_type": "code",
   "execution_count": null,
   "id": "bbd36667-5405-43af-a292-cc56518a46f5",
   "metadata": {
    "tags": []
   },
   "outputs": [],
   "source": [
    "# Start by removing small objects\n",
    "min_object_size = 500  # Define a minimum object size to keep (in pixels)\n",
    "cleaned_image = skimage.morphology.remove_small_objects(\n",
    "    triangle_thresholded, min_size=min_object_size\n",
    ")\n",
    "viewer.add_image(cleaned_image)"
   ]
  },
  {
   "cell_type": "code",
   "execution_count": null,
   "id": "fc985e8f-1f23-4a6f-95b4-b0d54df3f728",
   "metadata": {
    "tags": []
   },
   "outputs": [],
   "source": [
    "# Run a watershed\n",
    "# For more details - see https://scikit-image.org/docs/stable/auto_examples/segmentation/plot_watershed.html\n",
    "import scipy\n",
    "import numpy as np\n",
    "\n",
    "# Calculate distance transform\n",
    "distance = scipy.ndimage.distance_transform_edt(cleaned_image)\n",
    "viewer.add_image(distance)\n",
    "\n",
    "# Find local max, and dilate to ensure one peak per cell\n",
    "coords = skimage.feature.peak_local_max(\n",
    "    distance, footprint=np.ones((50, 50)), labels=cleaned_image\n",
    ")\n",
    "mask = np.zeros(distance.shape, dtype=bool)\n",
    "mask[tuple(coords.T)] = True\n",
    "mask = skimage.morphology.binary_dilation(mask)\n",
    "markers, _ = scipy.ndimage.label(mask)\n",
    "\n",
    "# Run watershed\n",
    "labels = skimage.segmentation.watershed(-distance, markers, mask=cleaned_image)\n",
    "viewer.add_labels(labels)"
   ]
  },
  {
   "cell_type": "markdown",
   "id": "a32ecf5b-23d6-408f-8189-5267795c9bd6",
   "metadata": {},
   "source": [
    "## Measure cell properties"
   ]
  },
  {
   "cell_type": "code",
   "execution_count": null,
   "id": "4a124449-f0c5-4d7e-a8c1-4159e178c558",
   "metadata": {
    "tags": []
   },
   "outputs": [],
   "source": [
    "props = skimage.measure.regionprops_table(\n",
    "    labels,\n",
    "    properties=(\n",
    "        \"area\",\n",
    "        \"centroid\",\n",
    "        \"area_bbox\",\n",
    "        \"orientation\",\n",
    "        \"axis_major_length\",\n",
    "        \"axis_minor_length\",\n",
    "    ),\n",
    ")"
   ]
  },
  {
   "cell_type": "code",
   "execution_count": null,
   "id": "423961d3-345a-431a-b556-cb8d85873b7a",
   "metadata": {
    "tags": []
   },
   "outputs": [],
   "source": [
    "import pandas as pd\n",
    "\n",
    "pd.DataFrame(props)"
   ]
  }
 ],
 "metadata": {
  "kernelspec": {
   "display_name": "Python [conda env:image-analysis] *",
   "language": "python",
   "name": "conda-env-image-analysis-py"
  },
  "language_info": {
   "codemirror_mode": {
    "name": "ipython",
    "version": 3
   },
   "file_extension": ".py",
   "mimetype": "text/x-python",
   "name": "python",
   "nbconvert_exporter": "python",
   "pygments_lexer": "ipython3",
   "version": "3.10.11"
  }
 },
 "nbformat": 4,
 "nbformat_minor": 5
}
