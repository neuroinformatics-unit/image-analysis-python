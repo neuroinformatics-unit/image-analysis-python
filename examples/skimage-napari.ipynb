{
 "cells": [
  {
   "cell_type": "markdown",
   "id": "cfb84d9a-e728-4f28-8663-1b1735238e98",
   "metadata": {},
   "source": [
    "# Image analysis using scikit-image & napari\n",
    "\n",
    "While tools such as FIJI, Imaris etc. can be very easy to use, using Python for image analysis can be very useful:\n",
    "- Custom scripts allow you to analyse data in exactly the right way (not just what is implemented in a GUI)\n",
    "- Python allows you to combine image analysis, machine learning and data science (e.g. one script for everything, from raw data to plots).\n",
    "- Other neuroscience tools are written in Python, and so you can use functionality from these libraries (DeepLabCut, suite2p, BrainGlobe etc.)\n",
    "\n",
    "## scikit image\n",
    "[scikit](https://scikit-image.org) is an easy to use Python image processing library. It works well with numpy, it's well documented and easy to install across operating systems.\n",
    "\n",
    "## napari\n",
    "[napari](https://napari.org) is a multidimensional image viewer for Python. It allows for high-performance visualisation of data alongside analysis scripts. It's also easy to develop plugins for, so you can share your workflows with colleagues who may not know much Python."
   ]
  },
  {
   "cell_type": "markdown",
   "id": "c0585750-4ba2-42f5-a42e-526318b78977",
   "metadata": {},
   "source": [
    "## Load image as numpy array and inspect"
   ]
  },
  {
   "cell_type": "markdown",
   "id": "0006c9e4-07ab-4aea-be03-c2d5e456c1ea",
   "metadata": {},
   "source": [
    "## Load the data\n",
    "We're using [pooch](https://www.fatiando.org/pooch/) to automate downloading the data, and check the hash."
   ]
  },
  {
   "cell_type": "code",
   "execution_count": null,
   "id": "507c6e8e-d06b-497e-9f4e-cb3d3d68c485",
   "metadata": {
    "tags": []
   },
   "outputs": [],
   "source": [
    "import tifffile\n",
    "import pooch\n",
    "from pathlib import Path"
   ]
  },
  {
   "cell_type": "code",
   "execution_count": 22,
   "id": "0161676a-c00e-44f8-9b6e-df97a5cdfa2a",
   "metadata": {},
   "outputs": [],
   "source": [
    "# Use pooch to fetch data if it hasn't already been downloaded\n",
    "image_url = \"https://gin.g-node.org/neuroinformatics/image-analysis-courses/raw/master/misc/DAPI.tif\"\n",
    "image_path = pooch.retrieve(image_url, path=Path.cwd().parent, fname=\"DAPI.tif\", known_hash=\"6c4a065ef15f84adc5628b26f2b01e3694cea121425b8e349aab0c5b07582468\", progressbar=True)"
   ]
  },
  {
   "cell_type": "code",
   "execution_count": 23,
   "id": "a4042616-d91f-4dbb-9d57-f19492307564",
   "metadata": {
    "tags": []
   },
   "outputs": [
    {
     "name": "stdout",
     "output_type": "stream",
     "text": [
      "uint8\n",
      "(1024, 1024)\n"
     ]
    }
   ],
   "source": [
    "image = tifffile.imread(image_path)\n",
    "print(image.dtype)\n",
    "print(image.shape)"
   ]
  },
  {
   "cell_type": "markdown",
   "id": "3a6e82df-af27-422b-92af-bff402a3890e",
   "metadata": {},
   "source": [
    "## View image in napari"
   ]
  },
  {
   "cell_type": "code",
   "execution_count": 24,
   "id": "cc86006c-0016-4387-9163-a6506a6c1b8c",
   "metadata": {
    "tags": []
   },
   "outputs": [],
   "source": [
    "import napari\n",
    "\n",
    "# create the viewer and display the image\n",
    "viewer = napari.view_image(image)"
   ]
  },
  {
   "cell_type": "markdown",
   "id": "9756f43b-fd0d-48dc-9cfc-66f652e6abeb",
   "metadata": {},
   "source": [
    "## Use scikit-image to threshold"
   ]
  },
  {
   "cell_type": "code",
   "execution_count": 11,
   "id": "de39f6a5-f12b-42b5-b9ae-b434b28d555e",
   "metadata": {
    "tags": []
   },
   "outputs": [
    {
     "data": {
      "text/plain": [
       "<Image layer 'binary' at 0x7f91981d66e0>"
      ]
     },
     "execution_count": 11,
     "metadata": {},
     "output_type": "execute_result"
    }
   ],
   "source": [
    "# Threshold using otsu's method and view\n",
    "# Otsu (1979) IEEE Transactions on Systems, Man and Cybernetics. Vol SMC-9, No 1, p62\n",
    "import skimage\n",
    "\n",
    "thresholded = skimage.filters.threshold_otsu(image)\n",
    "binary = image > thresholded\n",
    "viewer.add_image(binary)"
   ]
  },
  {
   "cell_type": "markdown",
   "id": "a4fd01f2-f96c-41ad-8d62-1b88ee776cc4",
   "metadata": {
    "tags": []
   },
   "source": [
    "## Try preprocessing and other thresholding algorithms"
   ]
  },
  {
   "cell_type": "code",
   "execution_count": 12,
   "id": "d796749c-0a57-4aff-b89c-17f8f6326d0e",
   "metadata": {
    "tags": []
   },
   "outputs": [
    {
     "data": {
      "text/plain": [
       "<Image layer 'binary_smoothed' at 0x7f9174e1f6d0>"
      ]
     },
     "execution_count": 12,
     "metadata": {},
     "output_type": "execute_result"
    }
   ],
   "source": [
    "# Smooth the image with a gaussian filter and try again\n",
    "image_smoothed = skimage.filters.gaussian(image, sigma=5)\n",
    "viewer.add_image(image_smoothed)\n",
    "\n",
    "thresholded = skimage.filters.threshold_otsu(image_smoothed)\n",
    "binary_smoothed = image_smoothed > thresholded\n",
    "viewer.add_image(binary_smoothed)"
   ]
  },
  {
   "cell_type": "code",
   "execution_count": 13,
   "id": "4fdb0d40-53d5-410f-b238-6e68ef34cad9",
   "metadata": {
    "tags": []
   },
   "outputs": [
    {
     "data": {
      "text/plain": [
       "<Image layer 'triangle_thresholded' at 0x7f9125b1abf0>"
      ]
     },
     "execution_count": 13,
     "metadata": {},
     "output_type": "execute_result"
    }
   ],
   "source": [
    "thresholded = skimage.filters.threshold_triangle(image_smoothed)\n",
    "triangle_thresholded = image_smoothed > thresholded\n",
    "viewer.add_image(triangle_thresholded)"
   ]
  },
  {
   "cell_type": "markdown",
   "id": "6531c119-22be-429e-941b-98bbd3f2eea2",
   "metadata": {
    "tags": []
   },
   "source": [
    "## Clean up the image to improve segmentation"
   ]
  },
  {
   "cell_type": "code",
   "execution_count": 14,
   "id": "bbd36667-5405-43af-a292-cc56518a46f5",
   "metadata": {
    "tags": []
   },
   "outputs": [
    {
     "data": {
      "text/plain": [
       "<Image layer 'cleaned_image' at 0x7f9122776b00>"
      ]
     },
     "execution_count": 14,
     "metadata": {},
     "output_type": "execute_result"
    }
   ],
   "source": [
    "# Start by removing small objects\n",
    "min_object_size = 500  # Define a minimum object size to keep (in pixels)\n",
    "cleaned_image = skimage.morphology.remove_small_objects(\n",
    "    triangle_thresholded, min_size=min_object_size\n",
    ")\n",
    "viewer.add_image(cleaned_image)"
   ]
  },
  {
   "cell_type": "code",
   "execution_count": 15,
   "id": "fc985e8f-1f23-4a6f-95b4-b0d54df3f728",
   "metadata": {
    "tags": []
   },
   "outputs": [
    {
     "data": {
      "text/plain": [
       "<Labels layer 'labels' at 0x7f91221b4b50>"
      ]
     },
     "execution_count": 15,
     "metadata": {},
     "output_type": "execute_result"
    }
   ],
   "source": [
    "# Run a watershed\n",
    "import scipy\n",
    "import numpy as np\n",
    "\n",
    "# Calculate distance transform\n",
    "distance = scipy.ndimage.distance_transform_edt(cleaned_image)\n",
    "viewer.add_image(distance)\n",
    "\n",
    "# Find local max, and dilate to ensure one peak per cell\n",
    "coords = skimage.feature.peak_local_max(\n",
    "    distance, footprint=np.ones((50, 50)), labels=cleaned_image\n",
    ")\n",
    "mask = np.zeros(distance.shape, dtype=bool)\n",
    "mask[tuple(coords.T)] = True\n",
    "mask = skimage.morphology.binary_dilation(mask)\n",
    "markers, _ = scipy.ndimage.label(mask)\n",
    "\n",
    "# Run watershed\n",
    "labels = skimage.segmentation.watershed(-distance, markers, mask=cleaned_image)\n",
    "viewer.add_labels(labels)"
   ]
  },
  {
   "cell_type": "markdown",
   "id": "a32ecf5b-23d6-408f-8189-5267795c9bd6",
   "metadata": {},
   "source": [
    "## Measure cell properties"
   ]
  },
  {
   "cell_type": "code",
   "execution_count": 19,
   "id": "4a124449-f0c5-4d7e-a8c1-4159e178c558",
   "metadata": {
    "tags": []
   },
   "outputs": [],
   "source": [
    "props = skimage.measure.regionprops_table(\n",
    "    labels,\n",
    "    properties=(\n",
    "        \"area\",\n",
    "        \"centroid\",\n",
    "        \"area_bbox\",\n",
    "        \"orientation\",\n",
    "        \"axis_major_length\",\n",
    "        \"axis_minor_length\",\n",
    "    ),\n",
    ")"
   ]
  },
  {
   "cell_type": "code",
   "execution_count": 20,
   "id": "423961d3-345a-431a-b556-cb8d85873b7a",
   "metadata": {
    "tags": []
   },
   "outputs": [
    {
     "data": {
      "text/html": [
       "<div>\n",
       "<style scoped>\n",
       "    .dataframe tbody tr th:only-of-type {\n",
       "        vertical-align: middle;\n",
       "    }\n",
       "\n",
       "    .dataframe tbody tr th {\n",
       "        vertical-align: top;\n",
       "    }\n",
       "\n",
       "    .dataframe thead th {\n",
       "        text-align: right;\n",
       "    }\n",
       "</style>\n",
       "<table border=\"1\" class=\"dataframe\">\n",
       "  <thead>\n",
       "    <tr style=\"text-align: right;\">\n",
       "      <th></th>\n",
       "      <th>area</th>\n",
       "      <th>centroid-0</th>\n",
       "      <th>centroid-1</th>\n",
       "      <th>area_bbox</th>\n",
       "      <th>orientation</th>\n",
       "      <th>axis_major_length</th>\n",
       "      <th>axis_minor_length</th>\n",
       "    </tr>\n",
       "  </thead>\n",
       "  <tbody>\n",
       "    <tr>\n",
       "      <th>0</th>\n",
       "      <td>9347.0</td>\n",
       "      <td>47.351557</td>\n",
       "      <td>977.252594</td>\n",
       "      <td>11655.0</td>\n",
       "      <td>0.824051</td>\n",
       "      <td>123.574242</td>\n",
       "      <td>101.212164</td>\n",
       "    </tr>\n",
       "    <tr>\n",
       "      <th>1</th>\n",
       "      <td>24281.0</td>\n",
       "      <td>105.611713</td>\n",
       "      <td>373.657551</td>\n",
       "      <td>32835.0</td>\n",
       "      <td>-0.478749</td>\n",
       "      <td>210.500975</td>\n",
       "      <td>146.952951</td>\n",
       "    </tr>\n",
       "    <tr>\n",
       "      <th>2</th>\n",
       "      <td>21851.0</td>\n",
       "      <td>158.673882</td>\n",
       "      <td>526.202828</td>\n",
       "      <td>28938.0</td>\n",
       "      <td>1.130450</td>\n",
       "      <td>184.791408</td>\n",
       "      <td>151.148950</td>\n",
       "    </tr>\n",
       "    <tr>\n",
       "      <th>3</th>\n",
       "      <td>21562.0</td>\n",
       "      <td>182.137510</td>\n",
       "      <td>830.198497</td>\n",
       "      <td>27405.0</td>\n",
       "      <td>1.451295</td>\n",
       "      <td>207.053682</td>\n",
       "      <td>133.766799</td>\n",
       "    </tr>\n",
       "    <tr>\n",
       "      <th>4</th>\n",
       "      <td>17807.0</td>\n",
       "      <td>372.247038</td>\n",
       "      <td>317.961532</td>\n",
       "      <td>22140.0</td>\n",
       "      <td>-1.403451</td>\n",
       "      <td>183.185618</td>\n",
       "      <td>124.034410</td>\n",
       "    </tr>\n",
       "    <tr>\n",
       "      <th>5</th>\n",
       "      <td>20282.0</td>\n",
       "      <td>391.189232</td>\n",
       "      <td>615.939848</td>\n",
       "      <td>29754.0</td>\n",
       "      <td>-0.804173</td>\n",
       "      <td>204.286642</td>\n",
       "      <td>126.867983</td>\n",
       "    </tr>\n",
       "    <tr>\n",
       "      <th>6</th>\n",
       "      <td>26210.0</td>\n",
       "      <td>485.609958</td>\n",
       "      <td>111.854140</td>\n",
       "      <td>33755.0</td>\n",
       "      <td>-1.265196</td>\n",
       "      <td>221.906564</td>\n",
       "      <td>150.722677</td>\n",
       "    </tr>\n",
       "    <tr>\n",
       "      <th>7</th>\n",
       "      <td>20736.0</td>\n",
       "      <td>492.755208</td>\n",
       "      <td>839.006896</td>\n",
       "      <td>26082.0</td>\n",
       "      <td>-1.400560</td>\n",
       "      <td>192.486483</td>\n",
       "      <td>137.269558</td>\n",
       "    </tr>\n",
       "    <tr>\n",
       "      <th>8</th>\n",
       "      <td>23199.0</td>\n",
       "      <td>585.024527</td>\n",
       "      <td>341.651149</td>\n",
       "      <td>31603.0</td>\n",
       "      <td>-0.959365</td>\n",
       "      <td>202.158906</td>\n",
       "      <td>146.696404</td>\n",
       "    </tr>\n",
       "    <tr>\n",
       "      <th>9</th>\n",
       "      <td>18696.0</td>\n",
       "      <td>678.137035</td>\n",
       "      <td>56.627567</td>\n",
       "      <td>22625.0</td>\n",
       "      <td>-0.233333</td>\n",
       "      <td>189.539230</td>\n",
       "      <td>127.663598</td>\n",
       "    </tr>\n",
       "    <tr>\n",
       "      <th>10</th>\n",
       "      <td>26301.0</td>\n",
       "      <td>791.976769</td>\n",
       "      <td>913.520741</td>\n",
       "      <td>34720.0</td>\n",
       "      <td>-1.302659</td>\n",
       "      <td>219.678422</td>\n",
       "      <td>153.187610</td>\n",
       "    </tr>\n",
       "    <tr>\n",
       "      <th>11</th>\n",
       "      <td>19748.0</td>\n",
       "      <td>801.838667</td>\n",
       "      <td>255.766457</td>\n",
       "      <td>25432.0</td>\n",
       "      <td>-1.548072</td>\n",
       "      <td>188.523392</td>\n",
       "      <td>134.032322</td>\n",
       "    </tr>\n",
       "    <tr>\n",
       "      <th>12</th>\n",
       "      <td>25287.0</td>\n",
       "      <td>897.867007</td>\n",
       "      <td>729.727014</td>\n",
       "      <td>31302.0</td>\n",
       "      <td>-1.548215</td>\n",
       "      <td>227.204922</td>\n",
       "      <td>142.391042</td>\n",
       "    </tr>\n",
       "    <tr>\n",
       "      <th>13</th>\n",
       "      <td>19603.0</td>\n",
       "      <td>954.863235</td>\n",
       "      <td>461.701525</td>\n",
       "      <td>25728.0</td>\n",
       "      <td>1.461351</td>\n",
       "      <td>194.551739</td>\n",
       "      <td>130.695524</td>\n",
       "    </tr>\n",
       "  </tbody>\n",
       "</table>\n",
       "</div>"
      ],
      "text/plain": [
       "       area  centroid-0  centroid-1  area_bbox  orientation   \n",
       "0    9347.0   47.351557  977.252594    11655.0     0.824051  \\\n",
       "1   24281.0  105.611713  373.657551    32835.0    -0.478749   \n",
       "2   21851.0  158.673882  526.202828    28938.0     1.130450   \n",
       "3   21562.0  182.137510  830.198497    27405.0     1.451295   \n",
       "4   17807.0  372.247038  317.961532    22140.0    -1.403451   \n",
       "5   20282.0  391.189232  615.939848    29754.0    -0.804173   \n",
       "6   26210.0  485.609958  111.854140    33755.0    -1.265196   \n",
       "7   20736.0  492.755208  839.006896    26082.0    -1.400560   \n",
       "8   23199.0  585.024527  341.651149    31603.0    -0.959365   \n",
       "9   18696.0  678.137035   56.627567    22625.0    -0.233333   \n",
       "10  26301.0  791.976769  913.520741    34720.0    -1.302659   \n",
       "11  19748.0  801.838667  255.766457    25432.0    -1.548072   \n",
       "12  25287.0  897.867007  729.727014    31302.0    -1.548215   \n",
       "13  19603.0  954.863235  461.701525    25728.0     1.461351   \n",
       "\n",
       "    axis_major_length  axis_minor_length  \n",
       "0          123.574242         101.212164  \n",
       "1          210.500975         146.952951  \n",
       "2          184.791408         151.148950  \n",
       "3          207.053682         133.766799  \n",
       "4          183.185618         124.034410  \n",
       "5          204.286642         126.867983  \n",
       "6          221.906564         150.722677  \n",
       "7          192.486483         137.269558  \n",
       "8          202.158906         146.696404  \n",
       "9          189.539230         127.663598  \n",
       "10         219.678422         153.187610  \n",
       "11         188.523392         134.032322  \n",
       "12         227.204922         142.391042  \n",
       "13         194.551739         130.695524  "
      ]
     },
     "execution_count": 20,
     "metadata": {},
     "output_type": "execute_result"
    }
   ],
   "source": [
    "import pandas as pd\n",
    "\n",
    "pd.DataFrame(props)"
   ]
  }
 ],
 "metadata": {
  "kernelspec": {
   "display_name": "Python [conda env:image-analysis3] *",
   "language": "python",
   "name": "conda-env-image-analysis3-py"
  },
  "language_info": {
   "codemirror_mode": {
    "name": "ipython",
    "version": 3
   },
   "file_extension": ".py",
   "mimetype": "text/x-python",
   "name": "python",
   "nbconvert_exporter": "python",
   "pygments_lexer": "ipython3",
   "version": "3.10.11"
  }
 },
 "nbformat": 4,
 "nbformat_minor": 5
}
