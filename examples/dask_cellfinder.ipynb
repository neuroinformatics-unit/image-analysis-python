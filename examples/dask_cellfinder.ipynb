{
 "cells": [
  {
   "cell_type": "code",
   "execution_count": null,
   "id": "b3fc42ee-c435-4e87-a7b1-de1d21fa2cb6",
   "metadata": {
    "tags": []
   },
   "outputs": [],
   "source": [
    "from pathlib import Path\n",
    "\n",
    "voxel_sizes = [5, 2, 2] # in microns"
   ]
  },
  {
   "cell_type": "code",
   "execution_count": null,
   "id": "ecbfccc2-5cad-4244-9c20-25ce99b5ba2c",
   "metadata": {},
   "outputs": [],
   "source": [
    "import pooch\n",
    "data_path = Path.cwd().parent / \"serial_2p_subset\"\n",
    "# Use pooch to fetch data if it hasn't already been downloaded\n",
    "dsb_data_url = \"https://gin.g-node.org/BrainGlobe/demo-materials/raw/master/serial2p_subset.zip\"\n",
    "data_path = pooch.retrieve(dsb_data_url, known_hash=\"c31e0136d00024ba74085baefbfd174c8e325f97a942c803ee720bdc8f6e7a00\", progressbar=True, processor=pooch.Unzip(extract_dir=data_path))\n",
    "data_path = Path(data_path[0]).parent.parent\n",
    "signal_images = data_path / \"ch00\"\n",
    "background_images = data_path / \"ch02\""
   ]
  },
  {
   "cell_type": "code",
   "execution_count": null,
   "id": "914c1138-d913-4414-879d-f08c652fcc73",
   "metadata": {
    "tags": []
   },
   "outputs": [],
   "source": [
    "import glob\n",
    "import os\n",
    "\n",
    "from dask import array as da\n",
    "from dask import delayed\n",
    "from imlib.general.system import get_sorted_file_paths\n",
    "from tifffile import TiffFile, imread"
   ]
  },
  {
   "cell_type": "code",
   "execution_count": null,
   "id": "cedd28b1-8ffe-42aa-b31a-f006387646c5",
   "metadata": {
    "tags": []
   },
   "outputs": [],
   "source": [
    "# Write a function to load data with dask\n",
    "# Alternatively - `from cellfinder_core.tools.IO import read_with_dask`\n",
    "\n",
    "lazy_imread = delayed(imread) \n",
    "\n",
    "def get_tiff_meta(path):\n",
    "    with TiffFile(path) as tfile:\n",
    "        nz = len(tfile.pages)\n",
    "        if not nz:\n",
    "            raise ValueError(f\"tiff file {path} has no pages!\")\n",
    "        first_page = tfile.pages[0]\n",
    "\n",
    "    return tfile.pages[0].shape, first_page.dtype\n",
    "\n",
    "\n",
    "def read_with_dask(path):\n",
    "    filenames = glob.glob(os.path.join(path, \"*.tif\"))\n",
    "    shape, dtype = get_tiff_meta(filenames[0])\n",
    "    lazy_arrays = [lazy_imread(fn) for fn in get_sorted_file_paths(filenames)]\n",
    "    dask_arrays = [\n",
    "        da.from_delayed(delayed_reader, shape=shape, dtype=dtype)\n",
    "        for delayed_reader in lazy_arrays\n",
    "    ]\n",
    "    stack = da.stack(dask_arrays, axis=0)\n",
    "    return stack"
   ]
  },
  {
   "cell_type": "code",
   "execution_count": null,
   "id": "ca3e06a3-e4dd-47d1-8bc3-ede2a961c94c",
   "metadata": {
    "tags": []
   },
   "outputs": [],
   "source": [
    "from cellfinder_core.main import main as cellfinder_run\n",
    "\n",
    "signal_array = read_with_dask(signal_images)\n",
    "background_array = read_with_dask(background_images)\n",
    "\n",
    "print(signal_array)\n",
    "print(background_array)"
   ]
  },
  {
   "cell_type": "code",
   "execution_count": null,
   "id": "9ca3c817-b5ed-4d78-9470-d7ed86a41602",
   "metadata": {},
   "outputs": [],
   "source": [
    "import napari\n",
    "viewer = napari.view_image(background_array)\n",
    "viewer.add_image(signal_array)"
   ]
  },
  {
   "cell_type": "code",
   "execution_count": null,
   "id": "e7a7ae97-6703-4117-84d4-9d9b27d2bb21",
   "metadata": {
    "tags": []
   },
   "outputs": [],
   "source": [
    "detected_cells = cellfinder_run(signal_array,background_array,voxel_sizes)"
   ]
  },
  {
   "cell_type": "code",
   "execution_count": null,
   "id": "72856456-685e-49c4-b35a-c932d94f9782",
   "metadata": {},
   "outputs": [],
   "source": [
    "len(detected_cells)"
   ]
  },
  {
   "cell_type": "code",
   "execution_count": null,
   "id": "5aaba0c8-c835-4fca-a1ff-257e64eb5ea2",
   "metadata": {},
   "outputs": [],
   "source": [
    "from cellfinder_napari.utils import add_layers as add_cell_layers\n",
    "add_cell_layers(detected_cells, viewer)"
   ]
  }
 ],
 "metadata": {
  "kernelspec": {
   "display_name": "Python [conda env:image-analysis] *",
   "language": "python",
   "name": "conda-env-image-analysis-py"
  },
  "language_info": {
   "codemirror_mode": {
    "name": "ipython",
    "version": 3
   },
   "file_extension": ".py",
   "mimetype": "text/x-python",
   "name": "python",
   "nbconvert_exporter": "python",
   "pygments_lexer": "ipython3",
   "version": "3.10.11"
  }
 },
 "nbformat": 4,
 "nbformat_minor": 5
}
