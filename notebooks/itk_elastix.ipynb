{
 "cells": [
  {
   "cell_type": "markdown",
   "id": "6bd08872-c4f2-49f5-bc5a-84da9295800c",
   "metadata": {},
   "source": [
    "# Using itk-elastix to register a single section to a BrainGlobe Atlas\n",
    "\n",
    "[BrainGlobe](https://brainglobe.info/) 2D image registration has not yet been released, so we're going to use the [`itk-elastix`](https://github.com/InsightSoftwareConsortium/ITKElastix) library directly."
   ]
  },
  {
   "cell_type": "markdown",
   "id": "71ac0ca0-8172-491d-bb2d-37ca2f3cea07",
   "metadata": {},
   "source": [
    "## Load the data\n",
    "We're using [pooch](https://www.fatiando.org/pooch/) to automate downloading the data, and check the hash."
   ]
  },
  {
   "cell_type": "markdown",
   "id": "b09204b3-6d86-4b5b-b7f2-698ebb1e69bc",
   "metadata": {},
   "source": [
    "**Run the following cell to download the data in advance**"
   ]
  },
  {
   "cell_type": "code",
   "execution_count": 1,
   "id": "c0ed7368-7a90-4baa-8e20-7c467ed79151",
   "metadata": {},
   "outputs": [],
   "source": [
    "# Download and load a 2D coronal image\n",
    "import pooch\n",
    "import tifffile\n",
    "from pathlib import Path\n",
    "\n",
    "# Use pooch to fetch data if it hasn't already been downloaded\n",
    "image_url = \"https://gin.g-node.org/neuroinformatics/image-analysis-courses/raw/master/misc/coronal_section.tif\"\n",
    "image_path = pooch.retrieve(image_url, path=Path.cwd().parent, fname=\"coronal_section.tif\", known_hash=\"653539933fe1cafcdaa651378f7ebc01beced68298fceac4a8ec1da13f138c43\", progressbar=True)\n",
    "fixed_image = tifffile.imread(image_path)"
   ]
  },
  {
   "cell_type": "markdown",
   "id": "268ca684-8178-4b4e-abf3-a90baa4ceb3a",
   "metadata": {},
   "source": [
    "## View image in napari"
   ]
  },
  {
   "cell_type": "code",
   "execution_count": 2,
   "id": "eabd9a0d-dbda-41e9-a1cc-c57d0ffb1d74",
   "metadata": {},
   "outputs": [
    {
     "data": {
      "text/plain": [
       "<Image layer 'fixed_image' at 0x7f090428b3a0>"
      ]
     },
     "execution_count": 2,
     "metadata": {},
     "output_type": "execute_result"
    }
   ],
   "source": [
    "import napari\n",
    "viewer = napari.Viewer()\n",
    "viewer.add_image(fixed_image, contrast_limits=[0,10000])"
   ]
  },
  {
   "cell_type": "markdown",
   "id": "e0e3c712-3bd7-43a2-a36d-8c17b71e6904",
   "metadata": {},
   "source": [
    "## Instantiate a BrainGlobe Atlas API atlas class and choose an appropriate plane"
   ]
  },
  {
   "cell_type": "code",
   "execution_count": 3,
   "id": "5c80f539-c035-4258-a4d2-72bcd2eea441",
   "metadata": {},
   "outputs": [
    {
     "data": {
      "text/plain": [
       "<Image layer 'moving_image' at 0x7f08971a39a0>"
      ]
     },
     "execution_count": 3,
     "metadata": {},
     "output_type": "execute_result"
    }
   ],
   "source": [
    "# The first time you use a BrainGlobe atlas, it will need to be downloaded.\n",
    "# This is done automatically, but it may take some time, depending on the atlas\n",
    "\n",
    "from bg_atlasapi import BrainGlobeAtlas\n",
    "atlas_plane = 230 \n",
    "atlas = BrainGlobeAtlas(\"allen_mouse_25um\")\n",
    "moving_image = atlas.reference[atlas_plane]\n",
    "viewer.add_image(moving_image)"
   ]
  },
  {
   "cell_type": "markdown",
   "id": "49c5f963-d222-48f2-bb39-6f41b961989f",
   "metadata": {},
   "source": [
    "## Resample so the images are the same scale\n"
   ]
  },
  {
   "cell_type": "code",
   "execution_count": 4,
   "id": "0fa9590a-fd65-4e12-a427-a2e2c11af3d4",
   "metadata": {},
   "outputs": [
    {
     "data": {
      "text/plain": [
       "<Image layer 'downsampled_fixed_image' at 0x7f088fb4d120>"
      ]
     },
     "execution_count": 4,
     "metadata": {},
     "output_type": "execute_result"
    }
   ],
   "source": [
    "from scipy.ndimage import zoom\n",
    "image_pixel_size = 5 # um\n",
    "atlas_pixel_size = atlas.resolution[0]\n",
    "zoom_ratio = image_pixel_size / atlas_pixel_size\n",
    "downsampled_fixed_image = zoom(fixed_image, zoom_ratio)\n",
    "viewer.add_image(downsampled_fixed_image, contrast_limits=[0,10000])"
   ]
  },
  {
   "cell_type": "markdown",
   "id": "5da1fe45-beb9-4fd4-b9ff-b468037688c6",
   "metadata": {},
   "source": [
    "# Define a registration function \n",
    "See `itk-elastix` examples for more\n"
   ]
  },
  {
   "cell_type": "code",
   "execution_count": 5,
   "id": "2e4f7c18-5b63-401b-b252-67c4c6265f9d",
   "metadata": {},
   "outputs": [],
   "source": [
    "import itk\n",
    "import numpy as np\n",
    "\n",
    "def run_registration(\n",
    "    fixed_image,\n",
    "    moving_image,\n",
    "    rigid=True,\n",
    "    affine=True,\n",
    "    bspline=True,\n",
    "    affine_iterations=\"2048\",\n",
    "    log=False,\n",
    "):\n",
    "    # convert to ITK, view only\n",
    "    fixed_image = itk.GetImageViewFromArray(fixed_image).astype(itk.F)\n",
    "    moving_image = itk.GetImageViewFromArray(moving_image).astype(itk.F)\n",
    "\n",
    "    # This syntax needed for 3D images. Leaving here for compatibility.\n",
    "    elastix_object = itk.ElastixRegistrationMethod.New(\n",
    "        fixed_image, moving_image\n",
    "    )\n",
    "\n",
    "    parameter_object = setup_parameter_object(\n",
    "        rigid=rigid,\n",
    "        affine=affine,\n",
    "        bspline=bspline,\n",
    "        affine_iterations=affine_iterations,\n",
    "    )\n",
    "    elastix_object.SetParameterObject(parameter_object)\n",
    "    elastix_object.SetLogToConsole(log)\n",
    "\n",
    "    # update filter object\n",
    "    elastix_object.UpdateLargestPossibleRegion()\n",
    "\n",
    "    # get results\n",
    "    result_image = elastix_object.GetOutput()\n",
    "    result_transform_parameters = elastix_object.GetTransformParameterObject()\n",
    "    return np.asarray(result_image), result_transform_parameters\n",
    "\n",
    "\n",
    "def setup_parameter_object(\n",
    "    rigid=True,\n",
    "    affine=True,\n",
    "    bspline=True,\n",
    "    affine_iterations=\"2048\",\n",
    "):\n",
    "    parameter_object = itk.ParameterObject.New()\n",
    "\n",
    "    if rigid:\n",
    "        parameter_map_rigid = parameter_object.GetDefaultParameterMap(\"rigid\")\n",
    "        parameter_object.AddParameterMap(parameter_map_rigid)\n",
    "\n",
    "    if affine:\n",
    "        parameter_map_affine = parameter_object.GetDefaultParameterMap(\n",
    "            \"affine\"\n",
    "        )\n",
    "        parameter_map_affine[\"MaximumNumberOfIterations\"] = [affine_iterations]\n",
    "        parameter_object.AddParameterMap(parameter_map_affine)\n",
    "\n",
    "    if bspline:\n",
    "        parameter_map_bspline = parameter_object.GetDefaultParameterMap(\n",
    "            \"bspline\"\n",
    "        )\n",
    "        parameter_object.AddParameterMap(parameter_map_bspline)\n",
    "\n",
    "    return parameter_object"
   ]
  },
  {
   "cell_type": "markdown",
   "id": "e5276ebe-73a0-45ed-b51c-7b0a757e7c71",
   "metadata": {},
   "source": [
    "## Register the atlas image to the sample"
   ]
  },
  {
   "cell_type": "code",
   "execution_count": 6,
   "id": "4485eddf-ea28-4d88-b48b-98c791665d92",
   "metadata": {},
   "outputs": [],
   "source": [
    "registered_image, result_transform_parameters = run_registration(downsampled_fixed_image, moving_image)"
   ]
  },
  {
   "cell_type": "markdown",
   "id": "dbd37685-3ade-47db-89c3-76ee01338078",
   "metadata": {},
   "source": [
    "## Visualise the result"
   ]
  },
  {
   "cell_type": "code",
   "execution_count": 7,
   "id": "3e35422d-9592-45b7-b7cc-2cd987453831",
   "metadata": {},
   "outputs": [
    {
     "data": {
      "text/plain": [
       "<Image layer 'registered_image' at 0x7f079ae78430>"
      ]
     },
     "execution_count": 7,
     "metadata": {},
     "output_type": "execute_result"
    }
   ],
   "source": [
    "viewer.add_image(registered_image)"
   ]
  },
  {
   "cell_type": "markdown",
   "id": "6b4469bf-9226-4996-aa7b-c9c18ce8a34b",
   "metadata": {},
   "source": [
    "## Define a function to transform any other images from atlas to sample space"
   ]
  },
  {
   "cell_type": "code",
   "execution_count": 8,
   "id": "90a58717-2138-464d-ae59-5a03ac8322bf",
   "metadata": {},
   "outputs": [],
   "source": [
    "def transform_additional_image(moving_image, result_transform_parameters, mask=False):\n",
    "    result_transform_parameters.SetParameter('FinalBSplineInterpolationOrder','0')\n",
    "    \n",
    "    # convert to ITK, view only\n",
    "    moving_image = itk.GetImageViewFromArray(moving_image).astype(itk.F)\n",
    "    \n",
    "    # Load Transformix Object\n",
    "    transformix_object = itk.TransformixFilter.New(moving_image)\n",
    "    transformix_object.SetTransformParameterObject(result_transform_parameters)\n",
    "\n",
    "    \n",
    "    # Update object (required)\n",
    "    transformix_object.UpdateLargestPossibleRegion()\n",
    "    \n",
    "    # Results of Transformation\n",
    "    result_image = transformix_object.GetOutput()\n",
    "\n",
    "    if mask:\n",
    "        return np.asarray(result_image, dtype=int)\n",
    "    else:\n",
    "        return np.asarray(result_image)"
   ]
  },
  {
   "cell_type": "markdown",
   "id": "be0857ce-ea69-4b1b-a310-eab7a7777dd5",
   "metadata": {},
   "source": [
    "## Apply transformation to the annotations image\n"
   ]
  },
  {
   "cell_type": "code",
   "execution_count": 9,
   "id": "62055f12-bd92-4ab2-9466-da9e5d533b90",
   "metadata": {},
   "outputs": [
    {
     "data": {
      "text/plain": [
       "<Labels layer 'warped_annotations' at 0x7f087e477250>"
      ]
     },
     "execution_count": 9,
     "metadata": {},
     "output_type": "execute_result"
    }
   ],
   "source": [
    "warped_annotations = transform_additional_image(atlas.annotation[atlas_plane], result_transform_parameters, mask=True)\n",
    "viewer.add_labels(warped_annotations, opacity=0.3)"
   ]
  },
  {
   "cell_type": "markdown",
   "id": "4db451ab-052f-49db-9279-f0d901c67caf",
   "metadata": {
    "tags": []
   },
   "source": [
    "## Upsample the registered annotations to the raw data"
   ]
  },
  {
   "cell_type": "code",
   "execution_count": 10,
   "id": "7fc2573d-374d-4adb-836e-6b0a6427c069",
   "metadata": {
    "tags": []
   },
   "outputs": [
    {
     "data": {
      "text/plain": [
       "<Labels layer 'upsampled_warped_annotations' at 0x7f079ae782e0>"
      ]
     },
     "execution_count": 10,
     "metadata": {},
     "output_type": "execute_result"
    }
   ],
   "source": [
    "zoom_ratio = atlas_pixel_size/ image_pixel_size\n",
    "# set order=0 for no interpolation,\n",
    "upsampled_warped_annotations = zoom(warped_annotations, zoom_ratio, order=0)\n",
    "viewer.add_labels(upsampled_warped_annotations, opacity=0.3)"
   ]
  },
  {
   "cell_type": "markdown",
   "id": "b1124110-e503-4365-bb5b-703fab271ca1",
   "metadata": {},
   "source": [
    "## Use the atlas API to analyse the original image"
   ]
  },
  {
   "cell_type": "code",
   "execution_count": 11,
   "id": "343c7871-5663-4d3c-927c-a41aceb9d7e5",
   "metadata": {},
   "outputs": [
    {
     "name": "stdout",
     "output_type": "stream",
     "text": [
      "{'acronym': 'SSp-ul6a',\n",
      " 'id': 945,\n",
      " 'mesh': None,\n",
      " 'mesh_filename': PosixPath('/home/adam/.brainglobe/allen_mouse_25um_v1.2/meshes/945.obj'),\n",
      " 'name': 'Primary somatosensory area, upper limb, layer 6a',\n",
      " 'rgb_triplet': [24, 128, 100],\n",
      " 'structure_id_path': [997, 8, 567, 688, 695, 315, 453, 322, 369, 945]}\n"
     ]
    }
   ],
   "source": [
    "# Pick a value from atlas to inspect\n",
    "from pprint import pprint\n",
    "pprint(atlas.structures[945])"
   ]
  }
 ],
 "metadata": {
  "kernelspec": {
   "display_name": "Python [conda env:image-analysis-python]",
   "language": "python",
   "name": "conda-env-image-analysis-python-py"
  },
  "language_info": {
   "codemirror_mode": {
    "name": "ipython",
    "version": 3
   },
   "file_extension": ".py",
   "mimetype": "text/x-python",
   "name": "python",
   "nbconvert_exporter": "python",
   "pygments_lexer": "ipython3",
   "version": "3.10.11"
  }
 },
 "nbformat": 4,
 "nbformat_minor": 5
}
